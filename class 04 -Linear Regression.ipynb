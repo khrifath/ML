{
 "cells": [
  {
   "cell_type": "code",
   "execution_count": 1,
   "id": "562a9b76",
   "metadata": {},
   "outputs": [],
   "source": [
    "import pandas as pd\n",
    "import numpy as np\n",
    "import matplotlib.pyplot as plt\n",
    "import seaborn"
   ]
  },
  {
   "cell_type": "code",
   "execution_count": 2,
   "id": "b9e90ba7",
   "metadata": {},
   "outputs": [],
   "source": [
    "df =pd.read_csv(\"Height-Weight data.csv\")"
   ]
  },
  {
   "cell_type": "code",
   "execution_count": 3,
   "id": "3fffb5c7",
   "metadata": {},
   "outputs": [
    {
     "data": {
      "text/html": [
       "<div>\n",
       "<style scoped>\n",
       "    .dataframe tbody tr th:only-of-type {\n",
       "        vertical-align: middle;\n",
       "    }\n",
       "\n",
       "    .dataframe tbody tr th {\n",
       "        vertical-align: top;\n",
       "    }\n",
       "\n",
       "    .dataframe thead th {\n",
       "        text-align: right;\n",
       "    }\n",
       "</style>\n",
       "<table border=\"1\" class=\"dataframe\">\n",
       "  <thead>\n",
       "    <tr style=\"text-align: right;\">\n",
       "      <th></th>\n",
       "      <th>Height</th>\n",
       "      <th>Weight</th>\n",
       "    </tr>\n",
       "  </thead>\n",
       "  <tbody>\n",
       "    <tr>\n",
       "      <th>0</th>\n",
       "      <td>73.847017</td>\n",
       "      <td>241.893563</td>\n",
       "    </tr>\n",
       "    <tr>\n",
       "      <th>1</th>\n",
       "      <td>68.781904</td>\n",
       "      <td>162.310473</td>\n",
       "    </tr>\n",
       "    <tr>\n",
       "      <th>2</th>\n",
       "      <td>74.110105</td>\n",
       "      <td>212.740856</td>\n",
       "    </tr>\n",
       "    <tr>\n",
       "      <th>3</th>\n",
       "      <td>71.730978</td>\n",
       "      <td>220.042470</td>\n",
       "    </tr>\n",
       "    <tr>\n",
       "      <th>4</th>\n",
       "      <td>69.881796</td>\n",
       "      <td>206.349801</td>\n",
       "    </tr>\n",
       "  </tbody>\n",
       "</table>\n",
       "</div>"
      ],
      "text/plain": [
       "      Height      Weight\n",
       "0  73.847017  241.893563\n",
       "1  68.781904  162.310473\n",
       "2  74.110105  212.740856\n",
       "3  71.730978  220.042470\n",
       "4  69.881796  206.349801"
      ]
     },
     "execution_count": 3,
     "metadata": {},
     "output_type": "execute_result"
    }
   ],
   "source": [
    "df.head()\n"
   ]
  },
  {
   "cell_type": "code",
   "execution_count": 4,
   "id": "3b70f83d",
   "metadata": {},
   "outputs": [],
   "source": [
    " import os\n",
    "    "
   ]
  },
  {
   "cell_type": "code",
   "execution_count": 5,
   "id": "d14de4e2",
   "metadata": {},
   "outputs": [
    {
     "data": {
      "text/plain": [
       "'C:\\\\Users\\\\ADMIN\\\\Documents\\\\Python Scripts'"
      ]
     },
     "execution_count": 5,
     "metadata": {},
     "output_type": "execute_result"
    }
   ],
   "source": [
    "os.getcwd()"
   ]
  },
  {
   "cell_type": "code",
   "execution_count": 6,
   "id": "e0a0d223",
   "metadata": {},
   "outputs": [
    {
     "data": {
      "text/html": [
       "<div>\n",
       "<style scoped>\n",
       "    .dataframe tbody tr th:only-of-type {\n",
       "        vertical-align: middle;\n",
       "    }\n",
       "\n",
       "    .dataframe tbody tr th {\n",
       "        vertical-align: top;\n",
       "    }\n",
       "\n",
       "    .dataframe thead th {\n",
       "        text-align: right;\n",
       "    }\n",
       "</style>\n",
       "<table border=\"1\" class=\"dataframe\">\n",
       "  <thead>\n",
       "    <tr style=\"text-align: right;\">\n",
       "      <th></th>\n",
       "      <th>Height</th>\n",
       "      <th>Weight</th>\n",
       "    </tr>\n",
       "  </thead>\n",
       "  <tbody>\n",
       "    <tr>\n",
       "      <th>3496</th>\n",
       "      <td>69.296830</td>\n",
       "      <td>185.649086</td>\n",
       "    </tr>\n",
       "    <tr>\n",
       "      <th>3497</th>\n",
       "      <td>70.542201</td>\n",
       "      <td>210.198845</td>\n",
       "    </tr>\n",
       "    <tr>\n",
       "      <th>3498</th>\n",
       "      <td>73.912549</td>\n",
       "      <td>202.429960</td>\n",
       "    </tr>\n",
       "    <tr>\n",
       "      <th>3499</th>\n",
       "      <td>67.396021</td>\n",
       "      <td>144.277671</td>\n",
       "    </tr>\n",
       "    <tr>\n",
       "      <th>3500</th>\n",
       "      <td>72.738970</td>\n",
       "      <td>187.222909</td>\n",
       "    </tr>\n",
       "  </tbody>\n",
       "</table>\n",
       "</div>"
      ],
      "text/plain": [
       "         Height      Weight\n",
       "3496  69.296830  185.649086\n",
       "3497  70.542201  210.198845\n",
       "3498  73.912549  202.429960\n",
       "3499  67.396021  144.277671\n",
       "3500  72.738970  187.222909"
      ]
     },
     "execution_count": 6,
     "metadata": {},
     "output_type": "execute_result"
    }
   ],
   "source": [
    "df.tail()"
   ]
  },
  {
   "cell_type": "code",
   "execution_count": 7,
   "id": "1dbe69ed",
   "metadata": {},
   "outputs": [
    {
     "data": {
      "text/plain": [
       "(3501, 2)"
      ]
     },
     "execution_count": 7,
     "metadata": {},
     "output_type": "execute_result"
    }
   ],
   "source": [
    "df.shape"
   ]
  },
  {
   "cell_type": "code",
   "execution_count": 8,
   "id": "06b6213d",
   "metadata": {},
   "outputs": [
    {
     "name": "stdout",
     "output_type": "stream",
     "text": [
      "<class 'pandas.core.frame.DataFrame'>\n",
      "RangeIndex: 3501 entries, 0 to 3500\n",
      "Data columns (total 2 columns):\n",
      " #   Column  Non-Null Count  Dtype  \n",
      "---  ------  --------------  -----  \n",
      " 0   Height  3501 non-null   float64\n",
      " 1   Weight  3501 non-null   float64\n",
      "dtypes: float64(2)\n",
      "memory usage: 54.8 KB\n"
     ]
    }
   ],
   "source": [
    "df.info()"
   ]
  },
  {
   "cell_type": "code",
   "execution_count": 9,
   "id": "75176e43",
   "metadata": {},
   "outputs": [
    {
     "data": {
      "text/plain": [
       "Height    0\n",
       "Weight    0\n",
       "dtype: int64"
      ]
     },
     "execution_count": 9,
     "metadata": {},
     "output_type": "execute_result"
    }
   ],
   "source": [
    "df.isnull().sum()"
   ]
  },
  {
   "cell_type": "code",
   "execution_count": 10,
   "id": "d1c767f9",
   "metadata": {},
   "outputs": [
    {
     "data": {
      "text/plain": [
       "Index(['Height', 'Weight'], dtype='object')"
      ]
     },
     "execution_count": 10,
     "metadata": {},
     "output_type": "execute_result"
    }
   ],
   "source": [
    "df.columns"
   ]
  },
  {
   "cell_type": "code",
   "execution_count": 11,
   "id": "554fee64",
   "metadata": {},
   "outputs": [
    {
     "data": {
      "text/plain": [
       "0       73.847017\n",
       "1       68.781904\n",
       "2       74.110105\n",
       "3       71.730978\n",
       "4       69.881796\n",
       "          ...    \n",
       "3496    69.296830\n",
       "3497    70.542201\n",
       "3498    73.912549\n",
       "3499    67.396021\n",
       "3500    72.738970\n",
       "Name: Height, Length: 3501, dtype: float64"
      ]
     },
     "execution_count": 11,
     "metadata": {},
     "output_type": "execute_result"
    }
   ],
   "source": [
    "df.Height"
   ]
  },
  {
   "cell_type": "code",
   "execution_count": 12,
   "id": "ec9845b4",
   "metadata": {},
   "outputs": [
    {
     "data": {
      "text/html": [
       "<div>\n",
       "<style scoped>\n",
       "    .dataframe tbody tr th:only-of-type {\n",
       "        vertical-align: middle;\n",
       "    }\n",
       "\n",
       "    .dataframe tbody tr th {\n",
       "        vertical-align: top;\n",
       "    }\n",
       "\n",
       "    .dataframe thead th {\n",
       "        text-align: right;\n",
       "    }\n",
       "</style>\n",
       "<table border=\"1\" class=\"dataframe\">\n",
       "  <thead>\n",
       "    <tr style=\"text-align: right;\">\n",
       "      <th></th>\n",
       "      <th>Height</th>\n",
       "      <th>Weight</th>\n",
       "    </tr>\n",
       "  </thead>\n",
       "  <tbody>\n",
       "    <tr>\n",
       "      <th>count</th>\n",
       "      <td>3501.000000</td>\n",
       "      <td>3501.000000</td>\n",
       "    </tr>\n",
       "    <tr>\n",
       "      <th>mean</th>\n",
       "      <td>69.024411</td>\n",
       "      <td>186.891258</td>\n",
       "    </tr>\n",
       "    <tr>\n",
       "      <th>std</th>\n",
       "      <td>2.858583</td>\n",
       "      <td>19.903132</td>\n",
       "    </tr>\n",
       "    <tr>\n",
       "      <th>min</th>\n",
       "      <td>59.380650</td>\n",
       "      <td>65.780000</td>\n",
       "    </tr>\n",
       "    <tr>\n",
       "      <th>25%</th>\n",
       "      <td>67.193523</td>\n",
       "      <td>173.896237</td>\n",
       "    </tr>\n",
       "    <tr>\n",
       "      <th>50%</th>\n",
       "      <td>69.044211</td>\n",
       "      <td>187.308370</td>\n",
       "    </tr>\n",
       "    <tr>\n",
       "      <th>75%</th>\n",
       "      <td>70.976491</td>\n",
       "      <td>200.356448</td>\n",
       "    </tr>\n",
       "    <tr>\n",
       "      <th>max</th>\n",
       "      <td>78.998742</td>\n",
       "      <td>269.989698</td>\n",
       "    </tr>\n",
       "  </tbody>\n",
       "</table>\n",
       "</div>"
      ],
      "text/plain": [
       "            Height       Weight\n",
       "count  3501.000000  3501.000000\n",
       "mean     69.024411   186.891258\n",
       "std       2.858583    19.903132\n",
       "min      59.380650    65.780000\n",
       "25%      67.193523   173.896237\n",
       "50%      69.044211   187.308370\n",
       "75%      70.976491   200.356448\n",
       "max      78.998742   269.989698"
      ]
     },
     "execution_count": 12,
     "metadata": {},
     "output_type": "execute_result"
    }
   ],
   "source": [
    "df.describe()"
   ]
  },
  {
   "cell_type": "code",
   "execution_count": 13,
   "id": "612c50b5",
   "metadata": {},
   "outputs": [
    {
     "data": {
      "text/plain": [
       "Text(0, 0.5, 'Weight')"
      ]
     },
     "execution_count": 13,
     "metadata": {},
     "output_type": "execute_result"
    },
    {
     "data": {
      "image/png": "[encoded data removed]",
      "text/plain": [
       "<Figure size 432x288 with 1 Axes>"
      ]
     },
     "metadata": {
      "needs_background": "light"
     },
     "output_type": "display_data"
    }
   ],
   "source": [
    "plt.scatter(df.Height,df.Weight,color=\"green\",marker=\"o\")\n",
    "plt.xlabel(\"Height\")\n",
    "plt.ylabel(\"Weight\")\n"
   ]
  },
  {
   "cell_type": "code",
   "execution_count": 14,
   "id": "f5b6530a",
   "metadata": {},
   "outputs": [
    {
     "data": {
      "text/plain": [
       "69.02441087268797"
      ]
     },
     "execution_count": 14,
     "metadata": {},
     "output_type": "execute_result"
    }
   ],
   "source": [
    "df.Height.mean()"
   ]
  },
  {
   "cell_type": "code",
   "execution_count": 15,
   "id": "b6efa78b",
   "metadata": {},
   "outputs": [
    {
     "data": {
      "text/plain": [
       "186.89125797946284"
      ]
     },
     "execution_count": 15,
     "metadata": {},
     "output_type": "execute_result"
    }
   ],
   "source": [
    "df.Weight.mean()"
   ]
  },
  {
   "cell_type": "code",
   "execution_count": 23,
   "id": "770a0fa5",
   "metadata": {},
   "outputs": [],
   "source": [
    "x= df[['Height']]\n",
    "y= df[\"Weight\"]"
   ]
  },
  {
   "cell_type": "code",
   "execution_count": 31,
   "id": "29889356",
   "metadata": {},
   "outputs": [],
   "source": [
    "from sklearn.model_selection import train_test_split\n",
    "xtrain,xtest,ytrain,ytest = train_test_split(x , y  ,test_size=.30,random_state=1)"
   ]
  },
  {
   "cell_type": "code",
   "execution_count": 32,
   "id": "fe3eb962",
   "metadata": {},
   "outputs": [
    {
     "data": {
      "text/plain": [
       "(3501, 1)"
      ]
     },
     "execution_count": 32,
     "metadata": {},
     "output_type": "execute_result"
    }
   ],
   "source": [
    "x.shape"
   ]
  },
  {
   "cell_type": "code",
   "execution_count": 33,
   "id": "9367aa33",
   "metadata": {},
   "outputs": [
    {
     "data": {
      "text/plain": [
       "(1051, 1)"
      ]
     },
     "execution_count": 33,
     "metadata": {},
     "output_type": "execute_result"
    }
   ],
   "source": [
    "xtest.shape "
   ]
  },
  {
   "cell_type": "code",
   "execution_count": 34,
   "id": "348a4fc3",
   "metadata": {},
   "outputs": [
    {
     "data": {
      "text/plain": [
       "(2450, 1)"
      ]
     },
     "execution_count": 34,
     "metadata": {},
     "output_type": "execute_result"
    }
   ],
   "source": [
    "xtrain.shape"
   ]
  },
  {
   "cell_type": "code",
   "execution_count": 35,
   "id": "d1aa8a9c",
   "metadata": {},
   "outputs": [
    {
     "data": {
      "text/plain": [
       "(1051,)"
      ]
     },
     "execution_count": 35,
     "metadata": {},
     "output_type": "execute_result"
    }
   ],
   "source": [
    "ytest.shape"
   ]
  },
  {
   "cell_type": "code",
   "execution_count": 36,
   "id": "0a8d479d",
   "metadata": {},
   "outputs": [
    {
     "data": {
      "text/plain": [
       "(2450,)"
      ]
     },
     "execution_count": 36,
     "metadata": {},
     "output_type": "execute_result"
    }
   ],
   "source": [
    "ytrain.shape"
   ]
  },
  {
   "cell_type": "code",
   "execution_count": 37,
   "id": "be6d37c4",
   "metadata": {},
   "outputs": [],
   "source": [
    "from sklearn.linear_model import LinearRegression "
   ]
  },
  {
   "cell_type": "code",
   "execution_count": 38,
   "id": "25abd0ac",
   "metadata": {},
   "outputs": [],
   "source": [
    "lr = LinearRegression()"
   ]
  },
  {
   "cell_type": "code",
   "execution_count": 39,
   "id": "5ca617d3",
   "metadata": {},
   "outputs": [
    {
     "data": {
      "text/plain": [
       "LinearRegression()"
      ]
     },
     "execution_count": 39,
     "metadata": {},
     "output_type": "execute_result"
    }
   ],
   "source": [
    "lr.fit(xtrain,ytrain)"
   ]
  },
  {
   "cell_type": "code",
   "execution_count": 40,
   "id": "6f3e46ff",
   "metadata": {},
   "outputs": [
    {
     "data": {
      "text/html": [
       "<div>\n",
       "<style scoped>\n",
       "    .dataframe tbody tr th:only-of-type {\n",
       "        vertical-align: middle;\n",
       "    }\n",
       "\n",
       "    .dataframe tbody tr th {\n",
       "        vertical-align: top;\n",
       "    }\n",
       "\n",
       "    .dataframe thead th {\n",
       "        text-align: right;\n",
       "    }\n",
       "</style>\n",
       "<table border=\"1\" class=\"dataframe\">\n",
       "  <thead>\n",
       "    <tr style=\"text-align: right;\">\n",
       "      <th></th>\n",
       "      <th>Height</th>\n",
       "    </tr>\n",
       "  </thead>\n",
       "  <tbody>\n",
       "    <tr>\n",
       "      <th>221</th>\n",
       "      <td>66.786927</td>\n",
       "    </tr>\n",
       "    <tr>\n",
       "      <th>2696</th>\n",
       "      <td>65.192862</td>\n",
       "    </tr>\n",
       "    <tr>\n",
       "      <th>1334</th>\n",
       "      <td>68.390109</td>\n",
       "    </tr>\n",
       "    <tr>\n",
       "      <th>3402</th>\n",
       "      <td>68.145621</td>\n",
       "    </tr>\n",
       "    <tr>\n",
       "      <th>1159</th>\n",
       "      <td>71.647580</td>\n",
       "    </tr>\n",
       "    <tr>\n",
       "      <th>...</th>\n",
       "      <td>...</td>\n",
       "    </tr>\n",
       "    <tr>\n",
       "      <th>2763</th>\n",
       "      <td>68.457061</td>\n",
       "    </tr>\n",
       "    <tr>\n",
       "      <th>905</th>\n",
       "      <td>66.539812</td>\n",
       "    </tr>\n",
       "    <tr>\n",
       "      <th>1096</th>\n",
       "      <td>75.999957</td>\n",
       "    </tr>\n",
       "    <tr>\n",
       "      <th>235</th>\n",
       "      <td>70.555244</td>\n",
       "    </tr>\n",
       "    <tr>\n",
       "      <th>1061</th>\n",
       "      <td>70.269360</td>\n",
       "    </tr>\n",
       "  </tbody>\n",
       "</table>\n",
       "<p>2450 rows × 1 columns</p>\n",
       "</div>"
      ],
      "text/plain": [
       "         Height\n",
       "221   66.786927\n",
       "2696  65.192862\n",
       "1334  68.390109\n",
       "3402  68.145621\n",
       "1159  71.647580\n",
       "...         ...\n",
       "2763  68.457061\n",
       "905   66.539812\n",
       "1096  75.999957\n",
       "235   70.555244\n",
       "1061  70.269360\n",
       "\n",
       "[2450 rows x 1 columns]"
      ]
     },
     "execution_count": 40,
     "metadata": {},
     "output_type": "execute_result"
    }
   ],
   "source": [
    "xtrain"
   ]
  },
  {
   "cell_type": "code",
   "execution_count": 41,
   "id": "aec11478",
   "metadata": {},
   "outputs": [
    {
     "data": {
      "text/plain": [
       "221     165.431242\n",
       "2696    185.348211\n",
       "1334    179.352182\n",
       "3402    197.476930\n",
       "1159    200.286509\n",
       "           ...    \n",
       "2763    186.208566\n",
       "905     175.093255\n",
       "1096    224.440459\n",
       "235     198.460249\n",
       "1061    192.307027\n",
       "Name: Weight, Length: 2450, dtype: float64"
      ]
     },
     "execution_count": 41,
     "metadata": {},
     "output_type": "execute_result"
    }
   ],
   "source": [
    "ytrain"
   ]
  },
  {
   "cell_type": "code",
   "execution_count": 49,
   "id": "e3b9d27b",
   "metadata": {},
   "outputs": [],
   "source": [
    "m = lr.coef_\n"
   ]
  },
  {
   "cell_type": "code",
   "execution_count": 50,
   "id": "8f7e9d62",
   "metadata": {},
   "outputs": [
    {
     "data": {
      "text/plain": [
       "-225.82603000755844"
      ]
     },
     "execution_count": 50,
     "metadata": {},
     "output_type": "execute_result"
    }
   ],
   "source": [
    "c = lr.intercept_\n",
    "c"
   ]
  },
  {
   "cell_type": "code",
   "execution_count": 65,
   "id": "6bd3596d",
   "metadata": {},
   "outputs": [],
   "source": [
    "x1= 69.881796 \n",
    "y = m*x1 + c"
   ]
  },
  {
   "cell_type": "code",
   "execution_count": 66,
   "id": "7239c0d9",
   "metadata": {},
   "outputs": [
    {
     "data": {
      "text/plain": [
       "array([191.88887387])"
      ]
     },
     "execution_count": 66,
     "metadata": {},
     "output_type": "execute_result"
    }
   ],
   "source": [
    "y"
   ]
  },
  {
   "cell_type": "code",
   "execution_count": 67,
   "id": "460b1072",
   "metadata": {},
   "outputs": [
    {
     "data": {
      "text/html": [
       "<div>\n",
       "<style scoped>\n",
       "    .dataframe tbody tr th:only-of-type {\n",
       "        vertical-align: middle;\n",
       "    }\n",
       "\n",
       "    .dataframe tbody tr th {\n",
       "        vertical-align: top;\n",
       "    }\n",
       "\n",
       "    .dataframe thead th {\n",
       "        text-align: right;\n",
       "    }\n",
       "</style>\n",
       "<table border=\"1\" class=\"dataframe\">\n",
       "  <thead>\n",
       "    <tr style=\"text-align: right;\">\n",
       "      <th></th>\n",
       "      <th>Height</th>\n",
       "      <th>Weight</th>\n",
       "    </tr>\n",
       "  </thead>\n",
       "  <tbody>\n",
       "    <tr>\n",
       "      <th>0</th>\n",
       "      <td>73.847017</td>\n",
       "      <td>241.893563</td>\n",
       "    </tr>\n",
       "    <tr>\n",
       "      <th>1</th>\n",
       "      <td>68.781904</td>\n",
       "      <td>162.310473</td>\n",
       "    </tr>\n",
       "    <tr>\n",
       "      <th>2</th>\n",
       "      <td>74.110105</td>\n",
       "      <td>212.740856</td>\n",
       "    </tr>\n",
       "    <tr>\n",
       "      <th>3</th>\n",
       "      <td>71.730978</td>\n",
       "      <td>220.042470</td>\n",
       "    </tr>\n",
       "    <tr>\n",
       "      <th>4</th>\n",
       "      <td>69.881796</td>\n",
       "      <td>206.349801</td>\n",
       "    </tr>\n",
       "  </tbody>\n",
       "</table>\n",
       "</div>"
      ],
      "text/plain": [
       "      Height      Weight\n",
       "0  73.847017  241.893563\n",
       "1  68.781904  162.310473\n",
       "2  74.110105  212.740856\n",
       "3  71.730978  220.042470\n",
       "4  69.881796  206.349801"
      ]
     },
     "execution_count": 67,
     "metadata": {},
     "output_type": "execute_result"
    }
   ],
   "source": [
    "df.head()"
   ]
  },
  {
   "cell_type": "code",
   "execution_count": 68,
   "id": "c1180b12",
   "metadata": {},
   "outputs": [
    {
     "data": {
      "text/plain": [
       "array([191.88887387])"
      ]
     },
     "execution_count": 68,
     "metadata": {},
     "output_type": "execute_result"
    }
   ],
   "source": [
    "lr.predict([[69.881796]])"
   ]
  },
  {
   "cell_type": "code",
   "execution_count": 69,
   "id": "72b9da64",
   "metadata": {},
   "outputs": [],
   "source": [
    " df['Predicted values'] = lr.predict(x)"
   ]
  },
  {
   "cell_type": "code",
   "execution_count": 71,
   "id": "d894382c",
   "metadata": {},
   "outputs": [
    {
     "data": {
      "text/html": [
       "<div>\n",
       "<style scoped>\n",
       "    .dataframe tbody tr th:only-of-type {\n",
       "        vertical-align: middle;\n",
       "    }\n",
       "\n",
       "    .dataframe tbody tr th {\n",
       "        vertical-align: top;\n",
       "    }\n",
       "\n",
       "    .dataframe thead th {\n",
       "        text-align: right;\n",
       "    }\n",
       "</style>\n",
       "<table border=\"1\" class=\"dataframe\">\n",
       "  <thead>\n",
       "    <tr style=\"text-align: right;\">\n",
       "      <th></th>\n",
       "      <th>Height</th>\n",
       "      <th>Weight</th>\n",
       "      <th>Predicted values</th>\n",
       "    </tr>\n",
       "  </thead>\n",
       "  <tbody>\n",
       "    <tr>\n",
       "      <th>0</th>\n",
       "      <td>73.847017</td>\n",
       "      <td>241.893563</td>\n",
       "      <td>215.590782</td>\n",
       "    </tr>\n",
       "    <tr>\n",
       "      <th>1</th>\n",
       "      <td>68.781904</td>\n",
       "      <td>162.310473</td>\n",
       "      <td>185.314325</td>\n",
       "    </tr>\n",
       "    <tr>\n",
       "      <th>2</th>\n",
       "      <td>74.110105</td>\n",
       "      <td>212.740856</td>\n",
       "      <td>217.163380</td>\n",
       "    </tr>\n",
       "    <tr>\n",
       "      <th>3</th>\n",
       "      <td>71.730978</td>\n",
       "      <td>220.042470</td>\n",
       "      <td>202.942268</td>\n",
       "    </tr>\n",
       "    <tr>\n",
       "      <th>4</th>\n",
       "      <td>69.881796</td>\n",
       "      <td>206.349801</td>\n",
       "      <td>191.888873</td>\n",
       "    </tr>\n",
       "    <tr>\n",
       "      <th>5</th>\n",
       "      <td>67.253016</td>\n",
       "      <td>152.212156</td>\n",
       "      <td>176.175472</td>\n",
       "    </tr>\n",
       "    <tr>\n",
       "      <th>6</th>\n",
       "      <td>68.785081</td>\n",
       "      <td>183.927889</td>\n",
       "      <td>185.333317</td>\n",
       "    </tr>\n",
       "    <tr>\n",
       "      <th>7</th>\n",
       "      <td>68.348516</td>\n",
       "      <td>167.971111</td>\n",
       "      <td>182.723767</td>\n",
       "    </tr>\n",
       "    <tr>\n",
       "      <th>8</th>\n",
       "      <td>67.018950</td>\n",
       "      <td>175.929440</td>\n",
       "      <td>174.776355</td>\n",
       "    </tr>\n",
       "    <tr>\n",
       "      <th>9</th>\n",
       "      <td>63.456494</td>\n",
       "      <td>156.399676</td>\n",
       "      <td>153.481956</td>\n",
       "    </tr>\n",
       "    <tr>\n",
       "      <th>10</th>\n",
       "      <td>71.195382</td>\n",
       "      <td>186.604926</td>\n",
       "      <td>199.740769</td>\n",
       "    </tr>\n",
       "    <tr>\n",
       "      <th>11</th>\n",
       "      <td>71.640805</td>\n",
       "      <td>213.741170</td>\n",
       "      <td>202.403262</td>\n",
       "    </tr>\n",
       "    <tr>\n",
       "      <th>12</th>\n",
       "      <td>64.766329</td>\n",
       "      <td>167.127461</td>\n",
       "      <td>161.311429</td>\n",
       "    </tr>\n",
       "    <tr>\n",
       "      <th>13</th>\n",
       "      <td>69.283070</td>\n",
       "      <td>189.446181</td>\n",
       "      <td>188.310020</td>\n",
       "    </tr>\n",
       "    <tr>\n",
       "      <th>14</th>\n",
       "      <td>69.243732</td>\n",
       "      <td>186.434168</td>\n",
       "      <td>188.074880</td>\n",
       "    </tr>\n",
       "    <tr>\n",
       "      <th>15</th>\n",
       "      <td>67.645620</td>\n",
       "      <td>172.186930</td>\n",
       "      <td>178.522243</td>\n",
       "    </tr>\n",
       "    <tr>\n",
       "      <th>16</th>\n",
       "      <td>72.418317</td>\n",
       "      <td>196.028506</td>\n",
       "      <td>207.050798</td>\n",
       "    </tr>\n",
       "    <tr>\n",
       "      <th>17</th>\n",
       "      <td>63.974326</td>\n",
       "      <td>172.883470</td>\n",
       "      <td>156.577269</td>\n",
       "    </tr>\n",
       "    <tr>\n",
       "      <th>18</th>\n",
       "      <td>69.640060</td>\n",
       "      <td>185.983958</td>\n",
       "      <td>190.443909</td>\n",
       "    </tr>\n",
       "    <tr>\n",
       "      <th>19</th>\n",
       "      <td>67.936005</td>\n",
       "      <td>182.426648</td>\n",
       "      <td>180.258006</td>\n",
       "    </tr>\n",
       "  </tbody>\n",
       "</table>\n",
       "</div>"
      ],
      "text/plain": [
       "       Height      Weight  Predicted values\n",
       "0   73.847017  241.893563        215.590782\n",
       "1   68.781904  162.310473        185.314325\n",
       "2   74.110105  212.740856        217.163380\n",
       "3   71.730978  220.042470        202.942268\n",
       "4   69.881796  206.349801        191.888873\n",
       "5   67.253016  152.212156        176.175472\n",
       "6   68.785081  183.927889        185.333317\n",
       "7   68.348516  167.971111        182.723767\n",
       "8   67.018950  175.929440        174.776355\n",
       "9   63.456494  156.399676        153.481956\n",
       "10  71.195382  186.604926        199.740769\n",
       "11  71.640805  213.741170        202.403262\n",
       "12  64.766329  167.127461        161.311429\n",
       "13  69.283070  189.446181        188.310020\n",
       "14  69.243732  186.434168        188.074880\n",
       "15  67.645620  172.186930        178.522243\n",
       "16  72.418317  196.028506        207.050798\n",
       "17  63.974326  172.883470        156.577269\n",
       "18  69.640060  185.983958        190.443909\n",
       "19  67.936005  182.426648        180.258006"
      ]
     },
     "execution_count": 71,
     "metadata": {},
     "output_type": "execute_result"
    }
   ],
   "source": [
    "df.head(20)"
   ]
  },
  {
   "cell_type": "code",
   "execution_count": 72,
   "id": "1111fa07",
   "metadata": {},
   "outputs": [
    {
     "data": {
      "text/html": [
       "<div>\n",
       "<style scoped>\n",
       "    .dataframe tbody tr th:only-of-type {\n",
       "        vertical-align: middle;\n",
       "    }\n",
       "\n",
       "    .dataframe tbody tr th {\n",
       "        vertical-align: top;\n",
       "    }\n",
       "\n",
       "    .dataframe thead th {\n",
       "        text-align: right;\n",
       "    }\n",
       "</style>\n",
       "<table border=\"1\" class=\"dataframe\">\n",
       "  <thead>\n",
       "    <tr style=\"text-align: right;\">\n",
       "      <th></th>\n",
       "      <th>Height</th>\n",
       "      <th>Weight</th>\n",
       "      <th>Predicted values</th>\n",
       "    </tr>\n",
       "  </thead>\n",
       "  <tbody>\n",
       "    <tr>\n",
       "      <th>3481</th>\n",
       "      <td>71.702360</td>\n",
       "      <td>214.787698</td>\n",
       "      <td>202.771204</td>\n",
       "    </tr>\n",
       "    <tr>\n",
       "      <th>3482</th>\n",
       "      <td>71.330064</td>\n",
       "      <td>205.815358</td>\n",
       "      <td>200.545826</td>\n",
       "    </tr>\n",
       "    <tr>\n",
       "      <th>3483</th>\n",
       "      <td>66.713950</td>\n",
       "      <td>170.065480</td>\n",
       "      <td>172.953235</td>\n",
       "    </tr>\n",
       "    <tr>\n",
       "      <th>3484</th>\n",
       "      <td>73.412119</td>\n",
       "      <td>218.755755</td>\n",
       "      <td>212.991201</td>\n",
       "    </tr>\n",
       "    <tr>\n",
       "      <th>3485</th>\n",
       "      <td>71.795809</td>\n",
       "      <td>209.128403</td>\n",
       "      <td>203.329788</td>\n",
       "    </tr>\n",
       "    <tr>\n",
       "      <th>3486</th>\n",
       "      <td>68.832327</td>\n",
       "      <td>172.269277</td>\n",
       "      <td>185.615727</td>\n",
       "    </tr>\n",
       "    <tr>\n",
       "      <th>3487</th>\n",
       "      <td>74.971936</td>\n",
       "      <td>237.575314</td>\n",
       "      <td>222.314927</td>\n",
       "    </tr>\n",
       "    <tr>\n",
       "      <th>3488</th>\n",
       "      <td>63.275899</td>\n",
       "      <td>164.553855</td>\n",
       "      <td>152.402460</td>\n",
       "    </tr>\n",
       "    <tr>\n",
       "      <th>3489</th>\n",
       "      <td>70.884109</td>\n",
       "      <td>190.554244</td>\n",
       "      <td>197.880148</td>\n",
       "    </tr>\n",
       "    <tr>\n",
       "      <th>3490</th>\n",
       "      <td>69.139880</td>\n",
       "      <td>181.756130</td>\n",
       "      <td>187.454110</td>\n",
       "    </tr>\n",
       "    <tr>\n",
       "      <th>3491</th>\n",
       "      <td>67.269994</td>\n",
       "      <td>171.474446</td>\n",
       "      <td>176.276958</td>\n",
       "    </tr>\n",
       "    <tr>\n",
       "      <th>3492</th>\n",
       "      <td>69.893558</td>\n",
       "      <td>190.100836</td>\n",
       "      <td>191.959183</td>\n",
       "    </tr>\n",
       "    <tr>\n",
       "      <th>3493</th>\n",
       "      <td>73.665274</td>\n",
       "      <td>222.528390</td>\n",
       "      <td>214.504420</td>\n",
       "    </tr>\n",
       "    <tr>\n",
       "      <th>3494</th>\n",
       "      <td>65.528857</td>\n",
       "      <td>184.428199</td>\n",
       "      <td>165.869398</td>\n",
       "    </tr>\n",
       "    <tr>\n",
       "      <th>3495</th>\n",
       "      <td>68.508851</td>\n",
       "      <td>191.395759</td>\n",
       "      <td>183.682166</td>\n",
       "    </tr>\n",
       "    <tr>\n",
       "      <th>3496</th>\n",
       "      <td>69.296830</td>\n",
       "      <td>185.649086</td>\n",
       "      <td>188.392269</td>\n",
       "    </tr>\n",
       "    <tr>\n",
       "      <th>3497</th>\n",
       "      <td>70.542201</td>\n",
       "      <td>210.198845</td>\n",
       "      <td>195.836414</td>\n",
       "    </tr>\n",
       "    <tr>\n",
       "      <th>3498</th>\n",
       "      <td>73.912549</td>\n",
       "      <td>202.429960</td>\n",
       "      <td>215.982497</td>\n",
       "    </tr>\n",
       "    <tr>\n",
       "      <th>3499</th>\n",
       "      <td>67.396021</td>\n",
       "      <td>144.277671</td>\n",
       "      <td>177.030278</td>\n",
       "    </tr>\n",
       "    <tr>\n",
       "      <th>3500</th>\n",
       "      <td>72.738970</td>\n",
       "      <td>187.222909</td>\n",
       "      <td>208.967487</td>\n",
       "    </tr>\n",
       "  </tbody>\n",
       "</table>\n",
       "</div>"
      ],
      "text/plain": [
       "         Height      Weight  Predicted values\n",
       "3481  71.702360  214.787698        202.771204\n",
       "3482  71.330064  205.815358        200.545826\n",
       "3483  66.713950  170.065480        172.953235\n",
       "3484  73.412119  218.755755        212.991201\n",
       "3485  71.795809  209.128403        203.329788\n",
       "3486  68.832327  172.269277        185.615727\n",
       "3487  74.971936  237.575314        222.314927\n",
       "3488  63.275899  164.553855        152.402460\n",
       "3489  70.884109  190.554244        197.880148\n",
       "3490  69.139880  181.756130        187.454110\n",
       "3491  67.269994  171.474446        176.276958\n",
       "3492  69.893558  190.100836        191.959183\n",
       "3493  73.665274  222.528390        214.504420\n",
       "3494  65.528857  184.428199        165.869398\n",
       "3495  68.508851  191.395759        183.682166\n",
       "3496  69.296830  185.649086        188.392269\n",
       "3497  70.542201  210.198845        195.836414\n",
       "3498  73.912549  202.429960        215.982497\n",
       "3499  67.396021  144.277671        177.030278\n",
       "3500  72.738970  187.222909        208.967487"
      ]
     },
     "execution_count": 72,
     "metadata": {},
     "output_type": "execute_result"
    }
   ],
   "source": [
    "df.tail(20)"
   ]
  },
  {
   "cell_type": "code",
   "execution_count": 73,
   "id": "b19ab6a4",
   "metadata": {},
   "outputs": [
    {
     "data": {
      "text/plain": [
       "0.7313258168853622"
      ]
     },
     "execution_count": 73,
     "metadata": {},
     "output_type": "execute_result"
    }
   ],
   "source": [
    "lr.score(xtest,ytest)"
   ]
  },
  {
   "cell_type": "code",
   "execution_count": 76,
   "id": "828a7464",
   "metadata": {},
   "outputs": [
    {
     "data": {
      "text/plain": [
       "0.7327243206606744"
      ]
     },
     "execution_count": 76,
     "metadata": {},
     "output_type": "execute_result"
    }
   ],
   "source": [
    "lr.score(xtrain,ytrain)"
   ]
  }
 ],
 "metadata": {
  "kernelspec": {
   "display_name": "Python 3 (ipykernel)",
   "language": "python",
   "name": "python3"
  },
  "language_info": {
   "codemirror_mode": {
    "name": "ipython",
    "version": 3
   },
   "file_extension": ".py",
   "mimetype": "text/x-python",
   "name": "python",
   "nbconvert_exporter": "python",
   "pygments_lexer": "ipython3",
   "version": "3.9.7"
  }
 },
 "nbformat": 4,
 "nbformat_minor": 5
}
